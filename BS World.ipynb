{
 "cells": [
  {
   "cell_type": "code",
   "execution_count": 6,
   "metadata": {
    "ExecuteTime": {
     "end_time": "2018-12-04T16:26:11.315761Z",
     "start_time": "2018-12-04T16:26:11.303170Z"
    }
   },
   "outputs": [],
   "source": [
    "import pandas as pd\n",
    "import numpy as np\n",
    "from scipy.stats import norm\n",
    "from random import gauss\n",
    "import matplotlib.pyplot as plt\n",
    "import warnings\n",
    "from math import *\n",
    "warnings.filterwarnings('ignore')"
   ]
  },
  {
   "cell_type": "code",
   "execution_count": 7,
   "metadata": {
    "ExecuteTime": {
     "end_time": "2018-12-04T16:26:12.999635Z",
     "start_time": "2018-12-04T16:26:12.614049Z"
    },
    "scrolled": true
   },
   "outputs": [],
   "source": [
    "#Process options chain for one ticker from CBOE website \n",
    "with open('AAPL.dat','r') as f:\n",
    "    underlying = float(f.readline().split(',')[1])\n",
    "dat = pd.read_csv('/Users/Dovla/Downloads/AAPL.dat', sep=\",\", skiprows=2)\n",
    "calls = dat.iloc[:,0:7]\n",
    "calls['Y'], calls['M'],calls['D'],calls['K'],calls['Code'] = calls['Calls'].str.split(' ', -1).str\n",
    "calls['Code'],calls['Exch'] = calls['Code'].str.split('-', -1).str\n",
    "calls['K'] = calls.K.astype(float)\n",
    "calls['Time'] = pd.to_datetime(calls.Y+calls.M+calls.D,format='%Y%b%d')\n",
    "calls['Time1'] = calls['Time'] - calls['Time'][0]\n",
    "calls['Ti'] = calls['Time1'].dt.days / 365\n",
    "calls['S'] = underlying\n",
    "calls['r'] = 0.03\n",
    "calls['opMidPrice'] = (calls['Bid'] + calls['Ask'])/2\n",
    "calls['sigma'] = 0.1\n",
    "calls = calls[calls['Exch'].isnull()]\n",
    "calls1 = calls[['S','K','Ti','r','sigma','opMidPrice','Vol']]"
   ]
  },
  {
   "cell_type": "code",
   "execution_count": 8,
   "metadata": {
    "ExecuteTime": {
     "end_time": "2018-12-04T16:26:13.621505Z",
     "start_time": "2018-12-04T16:26:13.564378Z"
    }
   },
   "outputs": [],
   "source": [
    "def d1(x):\n",
    "    d1 = (np.log(x.S/x.K) + (x.r + x.sigma**2/2)*x.Ti) / (x.sigma * np.sqrt(x.Ti))\n",
    "    return d1\n",
    "def d2(x):\n",
    "    d2 = x.d1 - x.sigma * np.sqrt(x.Ti)\n",
    "    return d2\n",
    "def call(x):\n",
    "    c0 =  x.S * norm.cdf(x.d1) - x.K * exp(-x.r*(x.Ti)) * norm.cdf(x.d2)\n",
    "    return c0\n",
    "def deltaCall(x):\n",
    "    return norm.cdf(x.d1)\n",
    "def gamma(x):\n",
    "    gamma = norm.pdf(x.d1) / (x.S * x.sigma * sqrt(x.Ti))\n",
    "    return gamma\n",
    "def thetaCall(x):\n",
    "    theta = -(x.S*norm.pdf(x.d1)*x.sigma / (2*sqrt(x.Ti))) - (0.03 * x.K*exp(-0.03*x.Ti)*norm.cdf(x.d2))\n",
    "    return theta\n",
    "def rhoCall(x):\n",
    "    rho = ((x.Ti) * x.K * exp(-0.03*(x.Ti)) * norm.cdf(x.d2))\n",
    "    return rho"
   ]
  },
  {
   "cell_type": "code",
   "execution_count": 9,
   "metadata": {
    "ExecuteTime": {
     "end_time": "2018-12-04T16:26:17.156244Z",
     "start_time": "2018-12-04T16:26:15.026597Z"
    }
   },
   "outputs": [],
   "source": [
    "calls1['d1'] = calls1.apply(d1, axis=1)\n",
    "calls1['d2'] = calls1.apply(d2, axis=1)\n",
    "calls1['opBSprice'] = calls1.apply(call, axis=1)\n",
    "calls1['deltaCall'] = calls1.apply(deltaCall, axis=1)\n",
    "calls1['gamma'] = calls1.apply(gamma, axis=1)\n",
    "calls1['thetaCall'] = calls1.apply(thetaCall, axis=1)\n",
    "calls1['rhoCall'] = calls1.apply(rhoCall, axis=1)"
   ]
  },
  {
   "cell_type": "code",
   "execution_count": 10,
   "metadata": {
    "ExecuteTime": {
     "end_time": "2018-12-04T16:26:34.599726Z",
     "start_time": "2018-12-04T16:26:18.365847Z"
    }
   },
   "outputs": [],
   "source": [
    "def GBM(x):\n",
    "    return x.S * exp((x.r - 0.5 * x.sigma**2) * x.Ti + x.sigma * np.sqrt(x.Ti) * gauss(0,1.0))\n",
    "def MC(x, sims=100):\n",
    "    payoffs = []\n",
    "    for i in range(sims):\n",
    "        S_T = GBM(x)\n",
    "        payoffs.append(max(0.0,S_T-x.K))\n",
    "    price = np.exp(-x.r * (x.Ti)) * (sum(payoffs) / float(sims))\n",
    "    return price\n",
    "calls1['CallMC'] = calls1.apply(MC, axis=1)"
   ]
  },
  {
   "cell_type": "code",
   "execution_count": 11,
   "metadata": {
    "ExecuteTime": {
     "end_time": "2018-12-04T16:26:38.983947Z",
     "start_time": "2018-12-04T16:26:38.722718Z"
    }
   },
   "outputs": [],
   "source": [
    "def call1(S,K,r,sigma,Ti):\n",
    "    d1 = (np.log(S/K) + (r + sigma**2/2)*Ti) / (sigma * np.sqrt(Ti))\n",
    "    d2 = d1 - sigma * np.sqrt(Ti)\n",
    "    c0 =  S * norm.cdf(d1) - K * exp(-r*(Ti)) * norm.cdf(d2)\n",
    "    return c0, d1\n",
    "def vega(S,d1,Ti):\n",
    "    vega = (S * norm.pdf(d1) * np.sqrt(Ti))\n",
    "    return vega\n",
    "def impVol(x):\n",
    "    iters = 100\n",
    "    epsilon = 1.0e-5\n",
    "    vol = 0.5\n",
    "    for i in range(0, iters):\n",
    "        price, d111 = call1(x.S,x.K,x.r,vol,x.Ti)\n",
    "        veg = vega(x.S,d111,x.Ti)\n",
    "        diff = x.opMidPrice - price  # our root\n",
    "        if (abs(diff) < epsilon):\n",
    "            return vol\n",
    "        vol = vol + diff/veg # f(x) / f'(x)\n",
    "    return vol\n",
    "calls2 = calls1.loc[calls1.Ti == calls1.Ti.iloc[501],]\n",
    "calls2['ImpVol'] = calls2.apply(impVol, axis=1)"
   ]
  },
  {
   "cell_type": "code",
   "execution_count": null,
   "metadata": {},
   "outputs": [],
   "source": []
  }
 ],
 "metadata": {
  "kernelspec": {
   "display_name": "Python 3",
   "language": "python",
   "name": "python3"
  },
  "language_info": {
   "codemirror_mode": {
    "name": "ipython",
    "version": 3
   },
   "file_extension": ".py",
   "mimetype": "text/x-python",
   "name": "python",
   "nbconvert_exporter": "python",
   "pygments_lexer": "ipython3",
   "version": "3.6.5"
  }
 },
 "nbformat": 4,
 "nbformat_minor": 2
}

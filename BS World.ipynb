{
 "cells": [
  {
   "cell_type": "code",
   "execution_count": 122,
   "metadata": {
    "ExecuteTime": {
     "end_time": "2018-11-15T01:56:04.778146Z",
     "start_time": "2018-11-15T01:56:04.771399Z"
    }
   },
   "outputs": [],
   "source": [
    "import pandas as pd\n",
    "import numpy as np\n",
    "from scipy.stats import norm\n",
    "from random import gauss\n",
    "import warnings\n",
    "warnings.filterwarnings('ignore')"
   ]
  },
  {
   "cell_type": "code",
   "execution_count": 123,
   "metadata": {
    "ExecuteTime": {
     "end_time": "2018-11-15T01:56:06.040447Z",
     "start_time": "2018-11-15T01:56:05.631794Z"
    },
    "scrolled": true
   },
   "outputs": [],
   "source": [
    "with open('/Users/Dovla/Downloads/quotedata.dat','r') as f:\n",
    "    underlying = float(f.readline().split(',')[1])\n",
    "dat = pd.read_csv('/Users/Dovla/Downloads/quotedata.dat', sep=\",\", skiprows=2)\n",
    "calls = dat.iloc[:,0:7]\n",
    "calls['Y'], calls['M'],calls['D'],calls['K'],calls['Code'] = calls['Calls'].str.split(' ', -1).str\n",
    "calls['Code'],calls['Exch'] = calls['Code'].str.split('-', -1).str\n",
    "calls['K'] = calls.K.astype(float)\n",
    "calls['Time'] = pd.to_datetime(calls.Y+calls.M+calls.D,format='%Y%b%d')\n",
    "calls['Time1'] = calls['Time'] - calls['Time'][0]\n",
    "calls['Ti'] = calls['Time1'].dt.days / 365\n",
    "calls['S'] = underlying\n",
    "calls['r'] = 0.03\n",
    "calls['opMidPrice'] = (calls['Bid'] + calls['Ask'])/2\n",
    "calls['sigma'] = 0.1\n",
    "calls = calls[calls['Exch'].isnull()]\n",
    "calls1 = calls[['S','K','Ti','r','sigma','opMidPrice']]"
   ]
  },
  {
   "cell_type": "code",
   "execution_count": 221,
   "metadata": {
    "ExecuteTime": {
     "end_time": "2018-11-15T16:13:36.255423Z",
     "start_time": "2018-11-15T16:13:36.152027Z"
    }
   },
   "outputs": [],
   "source": [
    "def d1(x):\n",
    "    d1 = (np.log(x.S/x.K) + (x.r + x.sigma**2/2)*x.Ti) / (x.sigma * np.sqrt(x.Ti))\n",
    "    return d1\n",
    "def d2(x):\n",
    "    d2 = x.d1 - x.sigma * np.sqrt(x.Ti)\n",
    "    return d2\n",
    "def call(x):\n",
    "    c0 =  x.S * norm.cdf(x.d1) - x.K * exp(-x.r*(x.Ti)) * norm.cdf(x.d2)\n",
    "    return c0\n",
    "def deltaCall(x):\n",
    "    return norm.cdf(x.d1)\n",
    "def gamma(x):\n",
    "    gamma = norm.pdf(x.d1) / (x.S * x.sigma * sqrt(x.Ti))\n",
    "    return gamma\n",
    "def thetaCall(x):\n",
    "    theta = -(x.S*norm.pdf(x.d1)*x.sigma / (2*sqrt(x.Ti))) - (0.03 * x.K*exp(-0.03*x.Ti)*norm.cdf(x.d2))\n",
    "    return theta\n",
    "def rhoCall(x):\n",
    "    rho = ((x.Ti) * x.K * exp(-0.03*(x.Ti)) * norm.cdf(x.d2))\n",
    "    return rho"
   ]
  },
  {
   "cell_type": "code",
   "execution_count": 222,
   "metadata": {
    "ExecuteTime": {
     "end_time": "2018-11-15T16:14:08.301524Z",
     "start_time": "2018-11-15T16:14:03.810198Z"
    }
   },
   "outputs": [],
   "source": [
    "calls1['d1'] = calls1.apply(d1, axis=1)\n",
    "calls1['d2'] = calls1.apply(d2, axis=1)\n",
    "calls1['opBSprice'] = calls1.apply(call, axis=1)\n",
    "calls1['deltaCall'] = calls1.apply(deltaCall, axis=1)\n",
    "calls1['gamma'] = calls1.apply(gamma, axis=1)\n",
    "calls1['thetaCall'] = calls1.apply(thetaCall, axis=1)\n",
    "calls1['rhoCall'] = calls1.apply(rhoCall, axis=1)"
   ]
  },
  {
   "cell_type": "code",
   "execution_count": 224,
   "metadata": {
    "ExecuteTime": {
     "end_time": "2018-11-15T16:14:26.213035Z",
     "start_time": "2018-11-15T16:14:26.176326Z"
    }
   },
   "outputs": [
    {
     "data": {
      "text/html": [
       "<div>\n",
       "<style scoped>\n",
       "    .dataframe tbody tr th:only-of-type {\n",
       "        vertical-align: middle;\n",
       "    }\n",
       "\n",
       "    .dataframe tbody tr th {\n",
       "        vertical-align: top;\n",
       "    }\n",
       "\n",
       "    .dataframe thead th {\n",
       "        text-align: right;\n",
       "    }\n",
       "</style>\n",
       "<table border=\"1\" class=\"dataframe\">\n",
       "  <thead>\n",
       "    <tr style=\"text-align: right;\">\n",
       "      <th></th>\n",
       "      <th>S</th>\n",
       "      <th>K</th>\n",
       "      <th>Ti</th>\n",
       "      <th>r</th>\n",
       "      <th>sigma</th>\n",
       "      <th>opMidPrice</th>\n",
       "      <th>d1</th>\n",
       "      <th>d2</th>\n",
       "      <th>optBSprice</th>\n",
       "      <th>CallMC</th>\n",
       "      <th>opBSprice</th>\n",
       "      <th>deltaCall</th>\n",
       "      <th>gamma</th>\n",
       "      <th>thetaCall</th>\n",
       "      <th>rhoCall</th>\n",
       "    </tr>\n",
       "  </thead>\n",
       "  <tbody>\n",
       "    <tr>\n",
       "      <th>12784</th>\n",
       "      <td>186.8</td>\n",
       "      <td>340.0</td>\n",
       "      <td>2.167123</td>\n",
       "      <td>0.03</td>\n",
       "      <td>0.1</td>\n",
       "      <td>3.885</td>\n",
       "      <td>-3.553103</td>\n",
       "      <td>-3.700315</td>\n",
       "      <td>0.001257</td>\n",
       "      <td>0.0</td>\n",
       "      <td>0.001257</td>\n",
       "      <td>0.000190</td>\n",
       "      <td>0.000026</td>\n",
       "      <td>-0.005620</td>\n",
       "      <td>0.074337</td>\n",
       "    </tr>\n",
       "    <tr>\n",
       "      <th>12800</th>\n",
       "      <td>186.8</td>\n",
       "      <td>350.0</td>\n",
       "      <td>2.167123</td>\n",
       "      <td>0.03</td>\n",
       "      <td>0.1</td>\n",
       "      <td>4.200</td>\n",
       "      <td>-3.750014</td>\n",
       "      <td>-3.897226</td>\n",
       "      <td>0.000560</td>\n",
       "      <td>0.0</td>\n",
       "      <td>0.000560</td>\n",
       "      <td>0.000088</td>\n",
       "      <td>0.000013</td>\n",
       "      <td>-0.002716</td>\n",
       "      <td>0.034578</td>\n",
       "    </tr>\n",
       "    <tr>\n",
       "      <th>12816</th>\n",
       "      <td>186.8</td>\n",
       "      <td>360.0</td>\n",
       "      <td>2.167123</td>\n",
       "      <td>0.03</td>\n",
       "      <td>0.1</td>\n",
       "      <td>3.125</td>\n",
       "      <td>-3.941378</td>\n",
       "      <td>-4.088589</td>\n",
       "      <td>0.000246</td>\n",
       "      <td>0.0</td>\n",
       "      <td>0.000246</td>\n",
       "      <td>0.000041</td>\n",
       "      <td>0.000006</td>\n",
       "      <td>-0.001291</td>\n",
       "      <td>0.015864</td>\n",
       "    </tr>\n",
       "    <tr>\n",
       "      <th>12832</th>\n",
       "      <td>186.8</td>\n",
       "      <td>370.0</td>\n",
       "      <td>2.167123</td>\n",
       "      <td>0.03</td>\n",
       "      <td>0.1</td>\n",
       "      <td>3.575</td>\n",
       "      <td>-4.127497</td>\n",
       "      <td>-4.274709</td>\n",
       "      <td>0.000107</td>\n",
       "      <td>0.0</td>\n",
       "      <td>0.000107</td>\n",
       "      <td>0.000018</td>\n",
       "      <td>0.000003</td>\n",
       "      <td>-0.000605</td>\n",
       "      <td>0.007190</td>\n",
       "    </tr>\n",
       "    <tr>\n",
       "      <th>12848</th>\n",
       "      <td>186.8</td>\n",
       "      <td>380.0</td>\n",
       "      <td>2.167123</td>\n",
       "      <td>0.03</td>\n",
       "      <td>0.1</td>\n",
       "      <td>2.410</td>\n",
       "      <td>-4.308653</td>\n",
       "      <td>-4.455865</td>\n",
       "      <td>0.000046</td>\n",
       "      <td>0.0</td>\n",
       "      <td>0.000046</td>\n",
       "      <td>0.000008</td>\n",
       "      <td>0.000001</td>\n",
       "      <td>-0.000280</td>\n",
       "      <td>0.003224</td>\n",
       "    </tr>\n",
       "  </tbody>\n",
       "</table>\n",
       "</div>"
      ],
      "text/plain": [
       "           S      K        Ti     r  sigma  opMidPrice        d1        d2  \\\n",
       "12784  186.8  340.0  2.167123  0.03    0.1       3.885 -3.553103 -3.700315   \n",
       "12800  186.8  350.0  2.167123  0.03    0.1       4.200 -3.750014 -3.897226   \n",
       "12816  186.8  360.0  2.167123  0.03    0.1       3.125 -3.941378 -4.088589   \n",
       "12832  186.8  370.0  2.167123  0.03    0.1       3.575 -4.127497 -4.274709   \n",
       "12848  186.8  380.0  2.167123  0.03    0.1       2.410 -4.308653 -4.455865   \n",
       "\n",
       "       optBSprice  CallMC  opBSprice  deltaCall     gamma  thetaCall   rhoCall  \n",
       "12784    0.001257     0.0   0.001257   0.000190  0.000026  -0.005620  0.074337  \n",
       "12800    0.000560     0.0   0.000560   0.000088  0.000013  -0.002716  0.034578  \n",
       "12816    0.000246     0.0   0.000246   0.000041  0.000006  -0.001291  0.015864  \n",
       "12832    0.000107     0.0   0.000107   0.000018  0.000003  -0.000605  0.007190  \n",
       "12848    0.000046     0.0   0.000046   0.000008  0.000001  -0.000280  0.003224  "
      ]
     },
     "execution_count": 224,
     "metadata": {},
     "output_type": "execute_result"
    }
   ],
   "source": [
    "calls1.tail()"
   ]
  },
  {
   "cell_type": "code",
   "execution_count": 225,
   "metadata": {
    "ExecuteTime": {
     "end_time": "2018-11-15T16:19:47.084313Z",
     "start_time": "2018-11-15T16:15:52.000596Z"
    }
   },
   "outputs": [],
   "source": [
    "def GBM(x):\n",
    "    return x.S * exp((x.r - 0.5 * x.sigma**2) * x.Ti + x.sigma * np.sqrt(x.Ti) * gauss(0,1.0))\n",
    "def MC(x, sims=100):\n",
    "    payoffs = []\n",
    "    for i in range(sims):\n",
    "        S_T = GBM(x)\n",
    "        payoffs.append(max(0.0,S_T-x.K))\n",
    "    price = np.exp(-x.r * (x.Ti)) * (sum(payoffs) / float(sims))\n",
    "    return price\n",
    "calls1['CallMC'] = calls1.apply(MC, axis=1)"
   ]
  },
  {
   "cell_type": "code",
   "execution_count": null,
   "metadata": {
    "ExecuteTime": {
     "end_time": "2018-11-15T16:05:09.968094Z",
     "start_time": "2018-11-15T16:05:09.913775Z"
    }
   },
   "outputs": [],
   "source": []
  },
  {
   "cell_type": "code",
   "execution_count": null,
   "metadata": {
    "ExecuteTime": {
     "end_time": "2018-11-15T16:05:11.205936Z",
     "start_time": "2018-11-15T16:05:11.198112Z"
    }
   },
   "outputs": [],
   "source": []
  },
  {
   "cell_type": "code",
   "execution_count": 218,
   "metadata": {
    "ExecuteTime": {
     "end_time": "2018-11-15T16:05:12.479925Z",
     "start_time": "2018-11-15T16:05:12.100084Z"
    }
   },
   "outputs": [],
   "source": [
    "calls2 = calls1.iloc[500:510,]\n",
    "def call1(S,K,r,sigma,Ti):\n",
    "    d1 = (np.log(S/K) + (r + sigma**2/2)*Ti) / (sigma * np.sqrt(Ti))\n",
    "    d2 = d1 - sigma * np.sqrt(Ti)\n",
    "    c0 =  S * norm.cdf(d1) - K * exp(-r*(Ti)) * norm.cdf(d2)\n",
    "    return c0, d1\n",
    "def vega(S,d1,Ti):\n",
    "    vega = (S * norm.pdf(d1) * np.sqrt(Ti))\n",
    "    return vega\n",
    "def impVol(x):\n",
    "    iters = 100\n",
    "    epsilon = 1.0e-5\n",
    "    vol = 0.5\n",
    "    for i in range(0, iters):\n",
    "        price, d111 = call1(x.S,x.K,x.r,vol,x.Ti)\n",
    "        veg = vega(x.S,d111,x.Ti)\n",
    "        diff = x.opMidPrice - price  # our root\n",
    "        if (abs(diff) < epsilon):\n",
    "            return vol\n",
    "        vol = vol + diff/veg # f(x) / f'(x)\n",
    "    return vol\n",
    "calls2['ImpVol'] = calls2.apply(impVol, axis=1)"
   ]
  },
  {
   "cell_type": "code",
   "execution_count": 219,
   "metadata": {
    "ExecuteTime": {
     "end_time": "2018-11-15T16:05:13.143633Z",
     "start_time": "2018-11-15T16:05:13.113881Z"
    }
   },
   "outputs": [
    {
     "data": {
      "text/html": [
       "<div>\n",
       "<style scoped>\n",
       "    .dataframe tbody tr th:only-of-type {\n",
       "        vertical-align: middle;\n",
       "    }\n",
       "\n",
       "    .dataframe tbody tr th {\n",
       "        vertical-align: top;\n",
       "    }\n",
       "\n",
       "    .dataframe thead th {\n",
       "        text-align: right;\n",
       "    }\n",
       "</style>\n",
       "<table border=\"1\" class=\"dataframe\">\n",
       "  <thead>\n",
       "    <tr style=\"text-align: right;\">\n",
       "      <th></th>\n",
       "      <th>S</th>\n",
       "      <th>K</th>\n",
       "      <th>Ti</th>\n",
       "      <th>r</th>\n",
       "      <th>sigma</th>\n",
       "      <th>opMidPrice</th>\n",
       "      <th>d1</th>\n",
       "      <th>d2</th>\n",
       "      <th>optBSprice</th>\n",
       "      <th>CallMC</th>\n",
       "      <th>ImpVol</th>\n",
       "    </tr>\n",
       "  </thead>\n",
       "  <tbody>\n",
       "    <tr>\n",
       "      <th>8000</th>\n",
       "      <td>186.8</td>\n",
       "      <td>175.0</td>\n",
       "      <td>0.326027</td>\n",
       "      <td>0.03</td>\n",
       "      <td>0.1</td>\n",
       "      <td>20.600</td>\n",
       "      <td>1.342646</td>\n",
       "      <td>1.285548</td>\n",
       "      <td>13.957050</td>\n",
       "      <td>13.968335</td>\n",
       "      <td>0.310812</td>\n",
       "    </tr>\n",
       "    <tr>\n",
       "      <th>8016</th>\n",
       "      <td>186.8</td>\n",
       "      <td>180.0</td>\n",
       "      <td>0.326027</td>\n",
       "      <td>0.03</td>\n",
       "      <td>0.1</td>\n",
       "      <td>17.550</td>\n",
       "      <td>0.849276</td>\n",
       "      <td>0.792177</td>\n",
       "      <td>9.759013</td>\n",
       "      <td>9.841492</td>\n",
       "      <td>0.308864</td>\n",
       "    </tr>\n",
       "    <tr>\n",
       "      <th>8032</th>\n",
       "      <td>186.8</td>\n",
       "      <td>185.0</td>\n",
       "      <td>0.326027</td>\n",
       "      <td>0.03</td>\n",
       "      <td>0.1</td>\n",
       "      <td>14.750</td>\n",
       "      <td>0.369424</td>\n",
       "      <td>0.312325</td>\n",
       "      <td>6.256255</td>\n",
       "      <td>6.385967</td>\n",
       "      <td>0.305789</td>\n",
       "    </tr>\n",
       "    <tr>\n",
       "      <th>8048</th>\n",
       "      <td>186.8</td>\n",
       "      <td>190.0</td>\n",
       "      <td>0.326027</td>\n",
       "      <td>0.03</td>\n",
       "      <td>0.1</td>\n",
       "      <td>12.275</td>\n",
       "      <td>-0.097631</td>\n",
       "      <td>-0.154729</td>\n",
       "      <td>3.628531</td>\n",
       "      <td>3.753996</td>\n",
       "      <td>0.303367</td>\n",
       "    </tr>\n",
       "    <tr>\n",
       "      <th>8064</th>\n",
       "      <td>186.8</td>\n",
       "      <td>195.0</td>\n",
       "      <td>0.326027</td>\n",
       "      <td>0.03</td>\n",
       "      <td>0.1</td>\n",
       "      <td>10.050</td>\n",
       "      <td>-0.552552</td>\n",
       "      <td>-0.609651</td>\n",
       "      <td>1.885613</td>\n",
       "      <td>2.164881</td>\n",
       "      <td>0.299865</td>\n",
       "    </tr>\n",
       "    <tr>\n",
       "      <th>8080</th>\n",
       "      <td>186.8</td>\n",
       "      <td>200.0</td>\n",
       "      <td>0.326027</td>\n",
       "      <td>0.03</td>\n",
       "      <td>0.1</td>\n",
       "      <td>8.075</td>\n",
       "      <td>-0.995956</td>\n",
       "      <td>-1.053054</td>\n",
       "      <td>0.872888</td>\n",
       "      <td>0.857359</td>\n",
       "      <td>0.295417</td>\n",
       "    </tr>\n",
       "    <tr>\n",
       "      <th>8096</th>\n",
       "      <td>186.8</td>\n",
       "      <td>205.0</td>\n",
       "      <td>0.326027</td>\n",
       "      <td>0.03</td>\n",
       "      <td>0.1</td>\n",
       "      <td>6.500</td>\n",
       "      <td>-1.428410</td>\n",
       "      <td>-1.485509</td>\n",
       "      <td>0.359095</td>\n",
       "      <td>0.306423</td>\n",
       "      <td>0.294021</td>\n",
       "    </tr>\n",
       "    <tr>\n",
       "      <th>8112</th>\n",
       "      <td>186.8</td>\n",
       "      <td>210.0</td>\n",
       "      <td>0.326027</td>\n",
       "      <td>0.03</td>\n",
       "      <td>0.1</td>\n",
       "      <td>5.200</td>\n",
       "      <td>-1.850442</td>\n",
       "      <td>-1.907541</td>\n",
       "      <td>0.131317</td>\n",
       "      <td>0.146552</td>\n",
       "      <td>0.293339</td>\n",
       "    </tr>\n",
       "    <tr>\n",
       "      <th>8128</th>\n",
       "      <td>186.8</td>\n",
       "      <td>215.0</td>\n",
       "      <td>0.326027</td>\n",
       "      <td>0.03</td>\n",
       "      <td>0.1</td>\n",
       "      <td>4.100</td>\n",
       "      <td>-2.262544</td>\n",
       "      <td>-2.319642</td>\n",
       "      <td>0.042781</td>\n",
       "      <td>0.058508</td>\n",
       "      <td>0.292059</td>\n",
       "    </tr>\n",
       "    <tr>\n",
       "      <th>8144</th>\n",
       "      <td>186.8</td>\n",
       "      <td>220.0</td>\n",
       "      <td>0.326027</td>\n",
       "      <td>0.03</td>\n",
       "      <td>0.1</td>\n",
       "      <td>3.175</td>\n",
       "      <td>-2.665171</td>\n",
       "      <td>-2.722269</td>\n",
       "      <td>0.012460</td>\n",
       "      <td>0.000000</td>\n",
       "      <td>0.290025</td>\n",
       "    </tr>\n",
       "  </tbody>\n",
       "</table>\n",
       "</div>"
      ],
      "text/plain": [
       "          S      K        Ti     r  sigma  opMidPrice        d1        d2  \\\n",
       "8000  186.8  175.0  0.326027  0.03    0.1      20.600  1.342646  1.285548   \n",
       "8016  186.8  180.0  0.326027  0.03    0.1      17.550  0.849276  0.792177   \n",
       "8032  186.8  185.0  0.326027  0.03    0.1      14.750  0.369424  0.312325   \n",
       "8048  186.8  190.0  0.326027  0.03    0.1      12.275 -0.097631 -0.154729   \n",
       "8064  186.8  195.0  0.326027  0.03    0.1      10.050 -0.552552 -0.609651   \n",
       "8080  186.8  200.0  0.326027  0.03    0.1       8.075 -0.995956 -1.053054   \n",
       "8096  186.8  205.0  0.326027  0.03    0.1       6.500 -1.428410 -1.485509   \n",
       "8112  186.8  210.0  0.326027  0.03    0.1       5.200 -1.850442 -1.907541   \n",
       "8128  186.8  215.0  0.326027  0.03    0.1       4.100 -2.262544 -2.319642   \n",
       "8144  186.8  220.0  0.326027  0.03    0.1       3.175 -2.665171 -2.722269   \n",
       "\n",
       "      optBSprice     CallMC    ImpVol  \n",
       "8000   13.957050  13.968335  0.310812  \n",
       "8016    9.759013   9.841492  0.308864  \n",
       "8032    6.256255   6.385967  0.305789  \n",
       "8048    3.628531   3.753996  0.303367  \n",
       "8064    1.885613   2.164881  0.299865  \n",
       "8080    0.872888   0.857359  0.295417  \n",
       "8096    0.359095   0.306423  0.294021  \n",
       "8112    0.131317   0.146552  0.293339  \n",
       "8128    0.042781   0.058508  0.292059  \n",
       "8144    0.012460   0.000000  0.290025  "
      ]
     },
     "execution_count": 219,
     "metadata": {},
     "output_type": "execute_result"
    }
   ],
   "source": [
    "def mesh_plot2(X,Y,Z):\n",
    "   fig = plt.figure()\n",
    "   ax = Axes3D(fig, azim = -29, elev = 50)\n",
    "   XX,YY,ZZ = make_surf(X,Y,Z)\n",
    "   ax.plot_surface(XX,YY,ZZ, color = 'white')\n",
    "   ax.contour(XX,YY,ZZ)\n",
    "   plt.xlabel(\"expiry\")\n",
    "   plt.ylabel(\"strike\")  \n",
    "\n",
    "def make_surf(X,Y,Z):\n",
    "   XX,YY = np.meshgrid(np.linspace(min(X),max(X),230),np.linspace(min(Y),max(Y),230))\n",
    "   ZZ = griddata(np.array([X,Y]).T,np.array(Z),(XX,YY), method='linear')\n",
    "   return XX,YY,ZZ   \n",
    "\n"
   ]
  },
  {
   "cell_type": "code",
   "execution_count": null,
   "metadata": {
    "ExecuteTime": {
     "end_time": "2018-11-15T16:09:23.949230Z",
     "start_time": "2018-11-15T16:09:23.875983Z"
    }
   },
   "outputs": [],
   "source": []
  },
  {
   "cell_type": "code",
   "execution_count": 196,
   "metadata": {
    "ExecuteTime": {
     "end_time": "2018-11-15T02:30:07.706117Z",
     "start_time": "2018-11-15T02:30:07.666720Z"
    }
   },
   "outputs": [],
   "source": []
  },
  {
   "cell_type": "code",
   "execution_count": null,
   "metadata": {
    "ExecuteTime": {
     "end_time": "2018-11-15T02:30:09.826455Z",
     "start_time": "2018-11-15T02:30:09.801291Z"
    }
   },
   "outputs": [],
   "source": []
  },
  {
   "cell_type": "code",
   "execution_count": null,
   "metadata": {
    "ExecuteTime": {
     "end_time": "2018-11-15T02:31:58.038007Z",
     "start_time": "2018-11-15T02:31:58.026512Z"
    }
   },
   "outputs": [],
   "source": []
  },
  {
   "cell_type": "code",
   "execution_count": null,
   "metadata": {
    "ExecuteTime": {
     "end_time": "2018-11-15T02:29:33.412619Z",
     "start_time": "2018-11-15T02:29:33.362356Z"
    }
   },
   "outputs": [],
   "source": []
  },
  {
   "cell_type": "code",
   "execution_count": null,
   "metadata": {},
   "outputs": [],
   "source": []
  }
 ],
 "metadata": {
  "kernelspec": {
   "display_name": "Python 3",
   "language": "python",
   "name": "python3"
  },
  "language_info": {
   "codemirror_mode": {
    "name": "ipython",
    "version": 3
   },
   "file_extension": ".py",
   "mimetype": "text/x-python",
   "name": "python",
   "nbconvert_exporter": "python",
   "pygments_lexer": "ipython3",
   "version": "3.6.5"
  }
 },
 "nbformat": 4,
 "nbformat_minor": 2
}

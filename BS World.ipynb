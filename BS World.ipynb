{
 "cells": [
  {
   "cell_type": "code",
   "execution_count": 122,
   "metadata": {
    "ExecuteTime": {
     "end_time": "2018-11-15T01:56:04.778146Z",
     "start_time": "2018-11-15T01:56:04.771399Z"
    }
   },
   "outputs": [],
   "source": [
    "import pandas as pd\n",
    "import numpy as np\n",
    "from scipy.stats import norm\n",
    "from random import gauss\n",
    "import warnings\n",
    "warnings.filterwarnings('ignore')"
   ]
  },
  {
   "cell_type": "code",
   "execution_count": 123,
   "metadata": {
    "ExecuteTime": {
     "end_time": "2018-11-15T01:56:06.040447Z",
     "start_time": "2018-11-15T01:56:05.631794Z"
    },
    "scrolled": true
   },
   "outputs": [],
   "source": [
    "with open('/Users/Dovla/Downloads/quotedata.dat','r') as f:\n",
    "    underlying = float(f.readline().split(',')[1])\n",
    "dat = pd.read_csv('/Users/Dovla/Downloads/quotedata.dat', sep=\",\", skiprows=2)\n",
    "calls = dat.iloc[:,0:7]\n",
    "calls['Y'], calls['M'],calls['D'],calls['K'],calls['Code'] = calls['Calls'].str.split(' ', -1).str\n",
    "calls['Code'],calls['Exch'] = calls['Code'].str.split('-', -1).str\n",
    "calls['K'] = calls.K.astype(float)\n",
    "calls['Time'] = pd.to_datetime(calls.Y+calls.M+calls.D,format='%Y%b%d')\n",
    "calls['Time1'] = calls['Time'] - calls['Time'][0]\n",
    "calls['Ti'] = calls['Time1'].dt.days / 365\n",
    "calls['S'] = underlying\n",
    "calls['r'] = 0.03\n",
    "calls['opMidPrice'] = (calls['Bid'] + calls['Ask'])/2\n",
    "calls['sigma'] = 0.1\n",
    "calls = calls[calls['Exch'].isnull()]\n",
    "calls1 = calls[['S','K','Ti','r','sigma','opMidPrice']]"
   ]
  },
  {
   "cell_type": "code",
   "execution_count": 124,
   "metadata": {
    "ExecuteTime": {
     "end_time": "2018-11-15T01:56:06.810309Z",
     "start_time": "2018-11-15T01:56:06.793216Z"
    }
   },
   "outputs": [],
   "source": [
    "def d1(x):\n",
    "    d1 = (np.log(x.S/x.K) + (0.03 + x.sigma**2/2)*x.Ti) / (x.sigma * np.sqrt(x.Ti))\n",
    "    return d1\n",
    "def d2(x):\n",
    "    d2 = x.d1 - x.sigma * np.sqrt(x.Ti)\n",
    "    return d2\n",
    "def call(x):\n",
    "    c0 =  x.S * norm.cdf(x.d1) - x.K * exp(-0.03*(x.Ti)) * norm.cdf(x.d2)\n",
    "    return c0"
   ]
  },
  {
   "cell_type": "code",
   "execution_count": 125,
   "metadata": {
    "ExecuteTime": {
     "end_time": "2018-11-15T01:56:09.074856Z",
     "start_time": "2018-11-15T01:56:07.765655Z"
    }
   },
   "outputs": [],
   "source": [
    "calls1['d1'] = calls1.apply(d1, axis=1)\n",
    "calls1['d2'] = calls1.apply(d2, axis=1)\n",
    "calls1['optBSprice'] = calls1.apply(call, axis=1)"
   ]
  },
  {
   "cell_type": "code",
   "execution_count": 126,
   "metadata": {
    "ExecuteTime": {
     "end_time": "2018-11-15T01:58:26.990341Z",
     "start_time": "2018-11-15T01:56:09.843562Z"
    }
   },
   "outputs": [],
   "source": [
    "def GBM(S,sigma,r,T):\n",
    "    return S * exp((r - 0.5 * sigma**2) * T + sigma * np.sqrt(T) * gauss(0,1.0))\n",
    "def MC(x, sims=1000):\n",
    "    payoffs = []\n",
    "    for i in range(sims):\n",
    "        S_T = GBM(x.S,x.sigma,x.r,x.Ti)\n",
    "        payoffs.append(max(0.0,S_T-x.K))\n",
    "    price = np.exp(-x.r * (x.Ti)) * (sum(payoffs) / float(sims))\n",
    "    return price\n",
    "calls1['CallMC'] = calls1.apply(MC, axis=1)"
   ]
  },
  {
   "cell_type": "code",
   "execution_count": null,
   "metadata": {
    "ExecuteTime": {
     "end_time": "2018-11-15T01:50:57.441359Z",
     "start_time": "2018-11-15T01:50:57.375210Z"
    }
   },
   "outputs": [],
   "source": []
  },
  {
   "cell_type": "code",
   "execution_count": null,
   "metadata": {
    "ExecuteTime": {
     "end_time": "2018-11-15T01:41:01.609231Z",
     "start_time": "2018-11-15T01:41:01.497651Z"
    }
   },
   "outputs": [],
   "source": []
  },
  {
   "cell_type": "code",
   "execution_count": null,
   "metadata": {
    "ExecuteTime": {
     "end_time": "2018-11-15T01:45:07.971552Z",
     "start_time": "2018-11-15T01:45:07.961471Z"
    }
   },
   "outputs": [],
   "source": []
  },
  {
   "cell_type": "code",
   "execution_count": null,
   "metadata": {
    "ExecuteTime": {
     "end_time": "2018-11-15T01:43:59.434643Z",
     "start_time": "2018-11-15T01:43:59.425428Z"
    }
   },
   "outputs": [],
   "source": []
  },
  {
   "cell_type": "code",
   "execution_count": null,
   "metadata": {
    "ExecuteTime": {
     "end_time": "2018-11-15T01:44:56.104546Z",
     "start_time": "2018-11-15T01:44:56.065528Z"
    }
   },
   "outputs": [],
   "source": []
  },
  {
   "cell_type": "code",
   "execution_count": null,
   "metadata": {},
   "outputs": [],
   "source": []
  }
 ],
 "metadata": {
  "kernelspec": {
   "display_name": "Python 3",
   "language": "python",
   "name": "python3"
  },
  "language_info": {
   "codemirror_mode": {
    "name": "ipython",
    "version": 3
   },
   "file_extension": ".py",
   "mimetype": "text/x-python",
   "name": "python",
   "nbconvert_exporter": "python",
   "pygments_lexer": "ipython3",
   "version": "3.6.5"
  }
 },
 "nbformat": 4,
 "nbformat_minor": 2
}
